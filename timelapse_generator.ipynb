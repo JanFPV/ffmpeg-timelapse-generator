{
 "cells": [
  {
   "cell_type": "code",
   "execution_count": null,
   "id": "627ab781",
   "metadata": {},
   "outputs": [],
   "source": [
    "import pandas as pd\n",
    "from tools import get_image_dataframe, generate_timelapse_ffmpeg"
   ]
  },
  {
   "cell_type": "code",
   "execution_count": null,
   "id": "908706ac",
   "metadata": {},
   "outputs": [],
   "source": [
    "# Configuration\n",
    "dir_path = \"/home/jan/Desktop/timelapse/tmp/\"\n",
    "output_filename = \"timelapse.mp4\"\n",
    "fps = 30\n",
    "overlay_timestamp = True\n",
    "force_alphabetical_order = False      # Set to True if you want to sort images alphabetically\n",
    "\n",
    "# Encoding options\n",
    "crf = 23                              # Constant Rate Factor (lower = better quality)\n",
    "preset = \"medium\"                     # Encoding speed vs compression: ultrafast, fast, medium, slow, etc.\n",
    "#scale = None                          # Resolution as \"1920:1080\" or None to keep original\n",
    "scale = \"1080:1440\"                   # or \"720:960\", etc.\n",
    "codec = \"libx264\"                     # Video codec\n",
    "pix_fmt = \"yuv420p\"                   # Pixel format"
   ]
  },
  {
   "cell_type": "code",
   "execution_count": null,
   "id": "9166f995",
   "metadata": {},
   "outputs": [],
   "source": [
    "# Generate dataframe from images in directory\n",
    "df = get_image_dataframe(dir_path, force_alphabetical_order=force_alphabetical_order)\n",
    "df.tail(5)"
   ]
  },
  {
   "cell_type": "code",
   "execution_count": null,
   "id": "cecf6d09",
   "metadata": {},
   "outputs": [],
   "source": [
    "# Generate the timelapse video\n",
    "output_path = f\"{dir_path}/{output_filename}\"\n",
    "generate_timelapse_ffmpeg(\n",
    "    df,\n",
    "    output_path=output_path,\n",
    "    fps=fps,\n",
    "    overlay_timestamp=overlay_timestamp,\n",
    "    crf=crf,\n",
    "    preset=preset,\n",
    "    scale=scale,\n",
    "    codec=codec,\n",
    "    pix_fmt=pix_fmt\n",
    ")"
   ]
  }
 ],
 "metadata": {
  "kernelspec": {
   "display_name": "venv",
   "language": "python",
   "name": "python3"
  },
  "language_info": {
   "codemirror_mode": {
    "name": "ipython",
    "version": 3
   },
   "file_extension": ".py",
   "mimetype": "text/x-python",
   "name": "python",
   "nbconvert_exporter": "python",
   "pygments_lexer": "ipython3",
   "version": "3.13.3"
  }
 },
 "nbformat": 4,
 "nbformat_minor": 5
}
